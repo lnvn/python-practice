{
 "cells": [
  {
   "cell_type": "markdown",
   "id": "39e90322-97ad-4c1b-9a75-bc769b7e1293",
   "metadata": {
    "jp-MarkdownHeadingCollapsed": true
   },
   "source": [
    "### Introduce"
   ]
  },
  {
   "cell_type": "code",
   "execution_count": 1,
   "id": "7fd9e32b-0b33-4faa-91eb-c4b869891adf",
   "metadata": {},
   "outputs": [],
   "source": [
    "movies = [\"you are the apple of my eyes\", \"cay cam ngot cua toi\", \"cho toi xin mot ve di tuoi tho\"]"
   ]
  },
  {
   "cell_type": "code",
   "execution_count": 2,
   "id": "6b8792dc-b3a3-4f34-bc01-5fe3eea9cfae",
   "metadata": {},
   "outputs": [
    {
     "data": {
      "text/plain": [
       "'cay cam ngot cua toi'"
      ]
     },
     "execution_count": 2,
     "metadata": {},
     "output_type": "execute_result"
    }
   ],
   "source": [
    "movies[1]"
   ]
  },
  {
   "cell_type": "code",
   "execution_count": 3,
   "id": "5e6f91f5-e664-4ee5-a9f6-640609633b89",
   "metadata": {},
   "outputs": [
    {
     "data": {
      "text/plain": [
       "'you are the apple of my eyes'"
      ]
     },
     "execution_count": 3,
     "metadata": {},
     "output_type": "execute_result"
    }
   ],
   "source": [
    "movies[0]"
   ]
  },
  {
   "cell_type": "code",
   "execution_count": 6,
   "id": "f5723b09-1df5-408c-a273-cad52425ce41",
   "metadata": {},
   "outputs": [
    {
     "data": {
      "text/plain": [
       "'cho toi xin mot ve di tuoi tho'"
      ]
     },
     "execution_count": 6,
     "metadata": {},
     "output_type": "execute_result"
    }
   ],
   "source": [
    "movies[2]"
   ]
  },
  {
   "cell_type": "code",
   "execution_count": 9,
   "id": "b74024fb-83ee-42cc-9b28-9634a15d967d",
   "metadata": {},
   "outputs": [
    {
     "name": "stdout",
     "output_type": "stream",
     "text": [
      "['you are the apple of my eyes', 'cay cam ngot cua toi', 'cho toi xin mot ve di tuoi tho', 'Good Will Hunting']\n"
     ]
    }
   ],
   "source": [
    "print(movies)"
   ]
  },
  {
   "cell_type": "markdown",
   "id": "7907f02a-5ea5-47ba-9e7d-c01958c8071d",
   "metadata": {
    "jp-MarkdownHeadingCollapsed": true
   },
   "source": [
    "### Practice"
   ]
  },
  {
   "cell_type": "code",
   "execution_count": 40,
   "id": "e068374e-a34d-49c3-8a8f-236a6842ef19",
   "metadata": {},
   "outputs": [
    {
     "name": "stdout",
     "output_type": "stream",
     "text": [
      "296\n"
     ]
    }
   ],
   "source": [
    "# Write a Python program to sum all the items in a list\n",
    "my_number = [\"4\",\"12\",\"08\",\"73\",\"90\",\"43\",\"66\"]\n",
    "\n",
    "# sum = 0\n",
    "# for i in range(len(my_number)):\n",
    "#     sum += int(my_number[i])\n",
    "\n",
    "# print(f\"result: {sum}\")\n",
    "sum = 0\n",
    "for i in my_number:\n",
    "    sum += int(i)\n",
    "print(sum)"
   ]
  },
  {
   "cell_type": "code",
   "execution_count": 41,
   "id": "c946edd6-9c1a-42fd-97d4-aea72c1aabbd",
   "metadata": {},
   "outputs": [
    {
     "name": "stdout",
     "output_type": "stream",
     "text": [
      "result: 7159933440\n"
     ]
    }
   ],
   "source": [
    "# Write a Python program to multiply all the items in a list.\n",
    "my_number = [\"4\",\"12\",\"08\",\"73\",\"90\",\"43\",\"66\"]\n",
    "\n",
    "\n",
    "multi = 1\n",
    "# for i in range(len(my_number)):\n",
    "#     multi *= int(my_number[i])\n",
    "# print(f\"result: {multi}\")\n",
    "\n",
    "for i in my_number:\n",
    "    multi *= int(i)\n",
    "print(f\"result: {multi}\")"
   ]
  },
  {
   "cell_type": "code",
   "execution_count": 46,
   "id": "537da233-92ef-431f-b3ee-ba1dc6e5a424",
   "metadata": {},
   "outputs": [
    {
     "name": "stdout",
     "output_type": "stream",
     "text": [
      "90\n"
     ]
    }
   ],
   "source": [
    "# Write a Python program to get the largest number from a list.\n",
    "my_number = [\"4\",\"12\",\"08\",\"73\",\"90\",\"43\",\"66\"]\n",
    "max = 1\n",
    "for i in my_number:\n",
    "    if int(i) > int(max):\n",
    "        max = i\n",
    "print(max)"
   ]
  },
  {
   "cell_type": "markdown",
   "id": "6179bd03-2738-4fb0-9803-a158cf8a258c",
   "metadata": {
    "jp-MarkdownHeadingCollapsed": true
   },
   "source": [
    "### Method"
   ]
  },
  {
   "cell_type": "code",
   "execution_count": 10,
   "id": "c70a0f2c-be36-42cd-bc0d-f6247c0743da",
   "metadata": {},
   "outputs": [
    {
     "data": {
      "text/plain": [
       "'Good Will Hunting'"
      ]
     },
     "execution_count": 10,
     "metadata": {},
     "output_type": "execute_result"
    }
   ],
   "source": [
    "movies.pop()"
   ]
  },
  {
   "cell_type": "code",
   "execution_count": 11,
   "id": "b2d90d35-4a11-409b-bac5-41b5cf808676",
   "metadata": {},
   "outputs": [
    {
     "name": "stdout",
     "output_type": "stream",
     "text": [
      "['you are the apple of my eyes', 'cay cam ngot cua toi', 'cho toi xin mot ve di tuoi tho']\n"
     ]
    }
   ],
   "source": [
    "print(movies)"
   ]
  },
  {
   "cell_type": "code",
   "execution_count": 12,
   "id": "c6871ba2-44f4-40a7-8d5d-e84f3d7dd287",
   "metadata": {},
   "outputs": [],
   "source": [
    "movies.extend([\"la la land\",\"spirited away\"])"
   ]
  },
  {
   "cell_type": "code",
   "execution_count": 13,
   "id": "b2e1d609-bf34-414f-9839-5233b720ddbe",
   "metadata": {},
   "outputs": [
    {
     "name": "stdout",
     "output_type": "stream",
     "text": [
      "['you are the apple of my eyes', 'cay cam ngot cua toi', 'cho toi xin mot ve di tuoi tho', 'la la land', 'spirited away']\n"
     ]
    }
   ],
   "source": [
    "print(movies)"
   ]
  },
  {
   "cell_type": "code",
   "execution_count": 14,
   "id": "822ad4e7-52a7-454c-b440-ce0944161092",
   "metadata": {},
   "outputs": [],
   "source": [
    "movies.remove(\"la la land\")"
   ]
  },
  {
   "cell_type": "code",
   "execution_count": 15,
   "id": "4de5dd25-a326-4e62-90e7-8ac5b5602812",
   "metadata": {},
   "outputs": [
    {
     "name": "stdout",
     "output_type": "stream",
     "text": [
      "['you are the apple of my eyes', 'cay cam ngot cua toi', 'cho toi xin mot ve di tuoi tho', 'spirited away']\n"
     ]
    }
   ],
   "source": [
    "print(movies)\n"
   ]
  },
  {
   "cell_type": "code",
   "execution_count": 16,
   "id": "58457bbb-a136-4779-9490-8646e823612a",
   "metadata": {},
   "outputs": [],
   "source": [
    "movies.insert(3, \"la la land\")"
   ]
  },
  {
   "cell_type": "code",
   "execution_count": 26,
   "id": "4ceb7e37-9e1d-48d6-bc55-e843a40c12b8",
   "metadata": {},
   "outputs": [
    {
     "name": "stdout",
     "output_type": "stream",
     "text": [
      "['you are the apple of my eyes', 'cay cam ngot cua toi', 'cho toi xin mot ve di tuoi tho', 'la la land', 'spirited away']\n"
     ]
    }
   ],
   "source": [
    "print(movies)"
   ]
  },
  {
   "cell_type": "code",
   "execution_count": 28,
   "id": "57f9fde6-2609-423c-9e83-c9808c4b8083",
   "metadata": {},
   "outputs": [],
   "source": [
    "movies.insert(1,1975)"
   ]
  },
  {
   "cell_type": "code",
   "execution_count": 29,
   "id": "4746bdc8-db63-478f-b044-82dce81fe9be",
   "metadata": {},
   "outputs": [
    {
     "name": "stdout",
     "output_type": "stream",
     "text": [
      "['you are the apple of my eyes', 1975, 1975, 'cay cam ngot cua toi', 'cho toi xin mot ve di tuoi tho', 'la la land', 'spirited away']\n"
     ]
    }
   ],
   "source": [
    "print(movies)"
   ]
  },
  {
   "cell_type": "markdown",
   "id": "6357b9b0-6d3a-4800-b3b4-184c516031e0",
   "metadata": {
    "jp-MarkdownHeadingCollapsed": true
   },
   "source": [
    "### Show Offset of each item in the movies list"
   ]
  },
  {
   "cell_type": "code",
   "execution_count": 5,
   "id": "0c72b759-6643-432f-be09-0cfcd69bcf6c",
   "metadata": {},
   "outputs": [
    {
     "name": "stdout",
     "output_type": "stream",
     "text": [
      "Offset 0: you are the apple of my eyes\n",
      "Offset 1: cay cam ngot cua toi\n",
      "Offset 2: cho toi xin mot ve di tuoi tho\n"
     ]
    }
   ],
   "source": [
    "for index, item in enumerate(movies):\n",
    "    print(f\"Offset {index}: {item}\")"
   ]
  },
  {
   "cell_type": "markdown",
   "id": "bfa47c15-a38e-4373-8c96-fe2083827684",
   "metadata": {},
   "source": [
    "### The length of this list"
   ]
  },
  {
   "cell_type": "code",
   "execution_count": 7,
   "id": "2f47db2c-685c-4add-883b-dfcbc5773a28",
   "metadata": {},
   "outputs": [
    {
     "name": "stdout",
     "output_type": "stream",
     "text": [
      "3\n"
     ]
    }
   ],
   "source": [
    "print(len(movies))"
   ]
  },
  {
   "cell_type": "markdown",
   "id": "00ef8e2d-c058-4412-8924-e5c1c5ba2703",
   "metadata": {},
   "source": [
    "### For loops work with lists of any size"
   ]
  },
  {
   "cell_type": "code",
   "execution_count": 1,
   "id": "9d3398b0-24d8-44e3-8d6b-233ee6665b13",
   "metadata": {},
   "outputs": [],
   "source": [
    "fav_movies = [\"La La Land\", \"Good Will Hunting\", \"Peaky Blinder\", \"You are the apple of my eyes\"]"
   ]
  },
  {
   "cell_type": "code",
   "execution_count": 3,
   "id": "972aef21-bd83-48f4-97cb-58c6cc6cb96e",
   "metadata": {},
   "outputs": [
    {
     "name": "stdout",
     "output_type": "stream",
     "text": [
      "La La Land\n",
      "Good Will Hunting\n",
      "Peaky Blinder\n",
      "You are the apple of my eyes\n"
     ]
    }
   ],
   "source": [
    "# use for loop\n",
    "for film in fav_movies:\n",
    "    print(film)"
   ]
  },
  {
   "cell_type": "code",
   "execution_count": 7,
   "id": "d7789dce-cdbc-4625-9886-8179807f160f",
   "metadata": {},
   "outputs": [
    {
     "name": "stdout",
     "output_type": "stream",
     "text": [
      "La La Land\n",
      "Good Will Hunting\n",
      "Peaky Blinder\n",
      "You are the apple of my eyes\n"
     ]
    }
   ],
   "source": [
    "# use while loop\n",
    "count = 0\n",
    "while count < len(fav_movies):\n",
    "    print(fav_movies[count])\n",
    "    count += 1;"
   ]
  },
  {
   "cell_type": "code",
   "execution_count": 14,
   "id": "9ab42601-1330-4980-a97f-09959f6cba96",
   "metadata": {},
   "outputs": [
    {
     "name": "stdout",
     "output_type": "stream",
     "text": [
      "La La Land\n",
      "Good Will Hunting\n",
      "Peaky Blinder\n",
      "the witcher\n",
      "spririted away\n",
      "['Hihi', 'Haha']\n",
      "You are the apple of my eyes\n"
     ]
    }
   ],
   "source": [
    "fav_movies = [\"La La Land\", \"Good Will Hunting\", \"Peaky Blinder\", [\"the witcher\",\"spririted away\",[\"Hihi\",\"Haha\"]], \"You are the apple of my eyes\"]\n",
    "# use for loop\n",
    "for film in fav_movies:\n",
    "    if isinstance(film, list):\n",
    "        for film in film:\n",
    "            print(film)\n",
    "    else: print(film)\n"
   ]
  },
  {
   "cell_type": "code",
   "execution_count": 15,
   "id": "08e97983-86ca-4c45-ad30-b593fed3925f",
   "metadata": {},
   "outputs": [
    {
     "name": "stdout",
     "output_type": "stream",
     "text": [
      "La La Land\n",
      "Good Will Hunting\n",
      "Peaky Blinder\n",
      "['the witcher', 'spririted away', ['Hihi', 'Haha']]\n",
      "You are the apple of my eyes\n"
     ]
    }
   ],
   "source": [
    "fav_movies = [\"La La Land\", \"Good Will Hunting\", \"Peaky Blinder\", [\"the witcher\",\"spririted away\",[\"Hihi\",\"Haha\"]], \"You are the apple of my eyes\"]\n",
    "\n",
    "for film in fav_movies:\n",
    "    if isinstance(film, list)"
   ]
  },
  {
   "cell_type": "code",
   "execution_count": null,
   "id": "15e48cd5-c06c-4cae-96b2-6f71f2c8c519",
   "metadata": {},
   "outputs": [],
   "source": []
  }
 ],
 "metadata": {
  "kernelspec": {
   "display_name": "Python 3 (ipykernel)",
   "language": "python",
   "name": "python3"
  },
  "language_info": {
   "codemirror_mode": {
    "name": "ipython",
    "version": 3
   },
   "file_extension": ".py",
   "mimetype": "text/x-python",
   "name": "python",
   "nbconvert_exporter": "python",
   "pygments_lexer": "ipython3",
   "version": "3.10.12"
  }
 },
 "nbformat": 4,
 "nbformat_minor": 5
}
