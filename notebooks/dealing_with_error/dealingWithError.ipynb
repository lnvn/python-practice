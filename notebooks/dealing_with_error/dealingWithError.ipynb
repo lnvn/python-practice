{
 "cells": [
  {
   "cell_type": "code",
   "execution_count": 5,
   "id": "9b46aeb5-4613-4cfd-b2cb-234d9c6116bd",
   "metadata": {},
   "outputs": [],
   "source": [
    "import os\n",
    "os.getcwd()"
   ]
  },
  {
   "cell_type": "code",
   "execution_count": 4,
   "id": "c71ec0be-b67b-40d3-9553-352b980e6d1b",
   "metadata": {},
   "outputs": [
    {
     "name": "stdout",
     "output_type": "stream",
     "text": [
      "Frodo said:  Liverpool Football Club is a professional football club based in Liverpool, England.\n",
      "Sam said:  The club competes in the Premier League, the top tier of English football.\n",
      "Frodo said:  Founded in 1892, the club joined the Football League the following year\n",
      "Sam said:  and has played its home games at Anfield since its formation.\n",
      "Frodo said:  Domestically, the club has won 19\n",
      "Sam said:  league titles, eight FA Cups, a record nine League Cups and 16 FA Community Shields.\n",
      "Frodo said:  In international competitions, the club has won six European Cups, \n",
      "Sam said:  three UEFA Cups, four UEFA Super Cups—all English records—and one FIFA Club World Cup.\n",
      "Frodo said:  The club established itself as a major force in domestic and European football in the 1970s and 1980s,\n",
      "Sam said:  when Bill Shankly, Bob Paisley, Joe Fagan and Kenny Dalglish,\n",
      "Frodo said:  led the club to a combined 11 League titles and four European Cups.\n",
      "Sam said:  Liverpool won two further European Cups in 2005 and 2019 under the management of Rafael Benítez and Jürgen Klopp,\n",
      "Frodo said:  respectively; the latter led Liverpool to a 19th league title in 2020, the club's first during the Premier League era.\n",
      "Sam said:  This is to test: a special case with double colons\n",
      "Frodo said:  Let's try to run the program again!"
     ]
    }
   ],
   "source": [
    "data = open('liverpool.txt')\n",
    "\n",
    "# use for loop to read each line in data\n",
    "for each_line in data:\n",
    "    # use try-except to ignore the exception (E.g has no colon...)\n",
    "    try:\n",
    "        (role, line_spoken) = each_line.split(\":\", 1)\n",
    "        print(role, end='')\n",
    "        print(\" said: \", end='')\n",
    "        print(line_spoken, end='')\n",
    "    except:\n",
    "        pass\n",
    "\n",
    "data.close()"
   ]
  },
  {
   "cell_type": "code",
   "execution_count": null,
   "id": "b4149193-d321-4929-a852-cad0a27f50aa",
   "metadata": {},
   "outputs": [],
   "source": []
  }
 ],
 "metadata": {
  "kernelspec": {
   "display_name": "Python 3 (ipykernel)",
   "language": "python",
   "name": "python3"
  },
  "language_info": {
   "codemirror_mode": {
    "name": "ipython",
    "version": 3
   },
   "file_extension": ".py",
   "mimetype": "text/x-python",
   "name": "python",
   "nbconvert_exporter": "python",
   "pygments_lexer": "ipython3",
   "version": "3.9.6"
  }
 },
 "nbformat": 4,
 "nbformat_minor": 5
}
